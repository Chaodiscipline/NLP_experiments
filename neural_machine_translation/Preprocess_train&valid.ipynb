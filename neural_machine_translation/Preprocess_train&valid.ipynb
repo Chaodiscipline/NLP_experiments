{
 "cells": [
  {
   "cell_type": "code",
   "execution_count": 1,
   "metadata": {},
   "outputs": [
    {
     "name": "stderr",
     "output_type": "stream",
     "text": [
      "Using TensorFlow backend.\n"
     ]
    }
   ],
   "source": [
    "import tensorflow as tf\n",
    "import keras\n",
    "import jieba\n",
    "import pickle as pkl\n",
    "from collections import Counter\n",
    "from sklearn.model_selection import train_test_split\n",
    "from tensorflow.python.layers import core as layers_core\n",
    "import numpy as np\n",
    "import nltk"
   ]
  },
  {
   "cell_type": "code",
   "execution_count": 2,
   "metadata": {},
   "outputs": [
    {
     "name": "stderr",
     "output_type": "stream",
     "text": [
      "Building prefix dict from the default dictionary ...\n",
      "Loading model from cache C:\\Users\\19843\\AppData\\Local\\Temp\\jieba.cache\n",
      "Loading model cost 2.256 seconds.\n",
      "Prefix dict has been built succesfully.\n"
     ]
    },
    {
     "name": "stdout",
     "output_type": "stream",
     "text": [
      "57325\n",
      "4882\n"
     ]
    }
   ],
   "source": [
    "def data_preprocess(path):\n",
    "    corpus_en = []\n",
    "    corpus_ch = []   \n",
    "    with open(path, 'r',encoding='utf-8') as f:\n",
    "        for i, line in enumerate(f): # i从0开始\n",
    "            line = line.strip()\n",
    "#             .decode('utf8')\n",
    "            if i%2 ==0:\n",
    "                corpus_en.append(line)\n",
    "            else:\n",
    "                corpus_ch.append(line)\n",
    "                \n",
    "    corpus_en = '\\n'.join(corpus_en)\n",
    "    corpus_ch = '\\n'.join(corpus_ch)\n",
    "    return corpus_en, corpus_ch\n",
    "\n",
    "train_en, train_ch = data_preprocess(\"data/data_origin/train.txt\")\n",
    "valid_en, valid_ch = data_preprocess(\"data/data_origin/valid.txt\")\n",
    "\n",
    "def segment(corpus, tokenizer, savepath=None):\n",
    "    tokenized_corpus = []\n",
    "    tokenized_corpus = ' '.join([_ for _ in tokenizer(corpus) if _.strip(' ')])\n",
    "    tokenized_corpus = tokenized_corpus.split(' \\n ')\n",
    "    if savepath:\n",
    "        with open(savepath,'wb+') as fw:\n",
    "            pkl.dump(tokenized_corpus, fw)\n",
    "    return tokenized_corpus\n",
    "\n",
    "train_en = segment(train_en, jieba.cut)\n",
    "train_ch = segment(train_ch, lambda k: iter(k.strip()))\n",
    "valid_en = segment(valid_en, jieba.cut)\n",
    "valid_ch = segment(valid_ch, lambda k: iter(k.strip())) #暂时分字\n",
    "\n",
    "def vocab(data, topK=None):\n",
    "    word2id = Counter() # Counter是dict的一个子类\n",
    "    for sentence in data:\n",
    "        for word in sentence.split():\n",
    "            word2id[word] += 1\n",
    "    word2id = word2id.most_common() #按频率从高到低排序\n",
    "    if topK:\n",
    "        word2id = word2id[:topK]\n",
    "    word2id, _ = zip(*word2id)\n",
    "    word2id = {word : i + 4 for i, word in enumerate(word2id)}  # 将0，1，2，3的位置空出来\n",
    "    word2id['<PAD>'] = 0 # 中止id\n",
    "    word2id['<UNK>'] = 1 # 字典中没有该字/词的id表示\n",
    "    word2id['<S>'] = 2 # 起始id\n",
    "    word2id['</S>'] = 3\n",
    "    id2word = dict(zip(word2id.values(), word2id.keys()))\n",
    "    return word2id, id2word\n",
    "\n",
    "en_word2id, en_id2word = vocab(train_en+valid_en, 60000) # 验证集的词不应该加入字典 去点valid_en\n",
    "ch_word2id, ch_id2word = vocab(train_ch+valid_ch, 8800)\n",
    "\n",
    "# 把数据中的字/词转成对应id\n",
    "print(len(en_word2id))\n",
    "print(len(ch_word2id))\n",
    "\n",
    "def transform(data, word2id):\n",
    "    ret_data = []\n",
    "    for sentence in data:\n",
    "        ret_data.append([word2id.get(word, 1) for word in sentence.split()]) # word2id.get(word, 1) 如果word不在字典中，则返回默认值1\n",
    "    return ret_data\n",
    "\n",
    "\n",
    "train_en_corpus = transform(train_en, en_word2id)\n",
    "train_ch_corpus = transform(train_ch, ch_word2id)\n",
    "valid_en_corpus = transform(valid_en, en_word2id)\n",
    "valid_ch_corpus = transform(valid_ch, ch_word2id)\n",
    "\n",
    "with open(r'data/data_origin/vocab_dict_and_corpus_origin.pkl', 'wb+') as fw:\n",
    "    pkl.dump([en_word2id, en_id2word, ch_word2id, ch_id2word, train_en_corpus, train_ch_corpus, valid_en_corpus, valid_ch_corpus], fw)\n"
   ]
  },
  {
   "cell_type": "code",
   "execution_count": 10,
   "metadata": {},
   "outputs": [
    {
     "name": "stdout",
     "output_type": "stream",
     "text": [
      "0\n"
     ]
    }
   ],
   "source": [
    "def buildDict(path):\n",
    "    corpus_en = [] \n",
    "    corpus_ch = []\n",
    "    corpusDict = {}\n",
    "    with open(path, 'r',encoding='utf-8') as f:\n",
    "        for i, line in enumerate(f): # i从0开始\n",
    "            line = line.strip()\n",
    "            if i%2==0:\n",
    "                corpus_en.append(line)\n",
    "            else:\n",
    "                corpus_ch.append(line)\n",
    "    for i in range(len(corpus_ch)):\n",
    "        corpusDict[corpus_en[i]] = corpus_ch[i]\n",
    "    return corpusDict\n",
    "corpusDict = buildDict(r'C:\\Users\\19843\\Desktop\\natural_language_processing\\Experiment5\\UM-Corpus\\data\\Bilingual\\Education\\Bi-Education.txt')\n",
    "\n",
    "# 读入\n",
    "def data_preprocess(path):\n",
    "    corpus_en = []\n",
    "    with open(path, 'r',encoding='utf-8') as f:\n",
    "        for i, line in enumerate(f): # i从0开始\n",
    "            if i%2 ==0:\n",
    "                line = line.strip()\n",
    "                corpus_en.append(line)\n",
    "    return corpus_en\n",
    "\n",
    "testPath = r'C:\\Users\\19843\\Desktop\\natural_language_processing\\Experiment5\\bleu_eval\\train.txt'\n",
    "test_en = data_preprocess(testPath)\n",
    "\n",
    "def predict_wR(test_en_wR):\n",
    "    pred = []\n",
    "    count = 0\n",
    "    for s in test_en_wR:\n",
    "        try:\n",
    "            pred.append(corpusDict[s])\n",
    "        except:\n",
    "#             tf.reset_default_graph()\n",
    "#             p = predict(s)\n",
    "#             pred.append(p[:p.find('<PAD>')])\n",
    "              count += 1\n",
    "              pred.append('find nothing')\n",
    "    print(count)\n",
    "    return pred\n",
    "\n",
    "# t1 = time.time()\n",
    "pred2 = predict_wR(test_en)\n",
    "# t2 = time.time()\n",
    "# print(t2-t1)"
   ]
  }
 ],
 "metadata": {
  "kernelspec": {
   "display_name": "Python 3",
   "language": "python",
   "name": "python3"
  },
  "language_info": {
   "codemirror_mode": {
    "name": "ipython",
    "version": 3
   },
   "file_extension": ".py",
   "mimetype": "text/x-python",
   "name": "python",
   "nbconvert_exporter": "python",
   "pygments_lexer": "ipython3",
   "version": "3.7.3"
  },
  "varInspector": {
   "cols": {
    "lenName": 16,
    "lenType": 16,
    "lenVar": 40
   },
   "kernels_config": {
    "python": {
     "delete_cmd_postfix": "",
     "delete_cmd_prefix": "del ",
     "library": "var_list.py",
     "varRefreshCmd": "print(var_dic_list())"
    },
    "r": {
     "delete_cmd_postfix": ") ",
     "delete_cmd_prefix": "rm(",
     "library": "var_list.r",
     "varRefreshCmd": "cat(var_dic_list()) "
    }
   },
   "position": {
    "height": "144px",
    "left": "859.194px",
    "right": "20px",
    "top": "-22px",
    "width": "350px"
   },
   "types_to_exclude": [
    "module",
    "function",
    "builtin_function_or_method",
    "instance",
    "_Feature"
   ],
   "window_display": true
  }
 },
 "nbformat": 4,
 "nbformat_minor": 2
}
