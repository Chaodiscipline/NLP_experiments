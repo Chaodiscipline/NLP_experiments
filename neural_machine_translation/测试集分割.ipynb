{
 "cells": [
  {
   "cell_type": "code",
   "execution_count": 7,
   "metadata": {},
   "outputs": [],
   "source": [
    "Path = r'C:\\Users\\19843\\Desktop\\natural_language_processing\\NMT\\eval\\finalTest'\n",
    "en = []\n",
    "ch = []\n",
    "with open(Path+r'\\test.txt','r',encoding='utf-8') as f:\n",
    "    for i, line in enumerate(f):\n",
    "        line = line.strip()\n",
    "        if i%2==0:\n",
    "            en.append(line)\n",
    "        else:\n",
    "            ch.append(line)\n",
    "\n",
    "toTest = '\\n'.join(en)\n",
    "ref = '\\n'.join(ch)\n",
    "\n",
    "# ref = ref.replace('\\u2022', '')\n",
    "# ref = ref.replace('\\u25aa', '')\n",
    "# ref = ref.replace('\\ue788', '')\n",
    "# ref = ref.replace('\\ue7af', '')\n",
    "# ref = ref.replace('\\ufeff', '')\n",
    "# ref = ref.replace('\\u200b', '')\n",
    "# ref = ref.replace('\\ue513', '')\n",
    "# ref = ref.replace('\\u2749', '')\n",
    "# ref = ref.replace('\\u266c', '')\n",
    "# ref = ref.replace('\\xa0', '')\n",
    "# ref = ref.replace('\\U0001f60d', '')\n",
    "# ref = ref.replace('\\ue0ec', '')\n",
    "# ref = ref.replace('\\ue75a', '')\n",
    "\n",
    "# ref = ref.replace('\\ue0cf', '')\n",
    "# ref = ref.replace('\\ue7af', '')\n",
    "# ref = ref.replace('\\ufeff', '')\n",
    "# ref = ref.replace('\\u200b', '')\n",
    "# ref = ref.replace('\\ue513', '')\n",
    "# ref = ref.replace('\\u2749', '')\n",
    "# ref = ref.replace('\\u266c', '')\n",
    "# ref = ref.replace('\\xa0', '')\n",
    "toTest = toTest.replace('\\ue011', '')\n",
    "ref = ref.replace('\\ue0ef', '')\n",
    "with open(Path+r'\\ref.txt','w') as f:\n",
    "    f.write(ref)\n",
    "\n",
    "toTest = toTest.replace('\\ufffd','')\n",
    "with open(Path+r'\\toTest.txt','w') as f:\n",
    "    f.write(toTest)"
   ]
  },
  {
   "cell_type": "code",
   "execution_count": null,
   "metadata": {},
   "outputs": [],
   "source": []
  }
 ],
 "metadata": {
  "kernelspec": {
   "display_name": "Python 3",
   "language": "python",
   "name": "python3"
  },
  "language_info": {
   "codemirror_mode": {
    "name": "ipython",
    "version": 3
   },
   "file_extension": ".py",
   "mimetype": "text/x-python",
   "name": "python",
   "nbconvert_exporter": "python",
   "pygments_lexer": "ipython3",
   "version": "3.7.3"
  },
  "varInspector": {
   "cols": {
    "lenName": 16,
    "lenType": 16,
    "lenVar": 40
   },
   "kernels_config": {
    "python": {
     "delete_cmd_postfix": "",
     "delete_cmd_prefix": "del ",
     "library": "var_list.py",
     "varRefreshCmd": "print(var_dic_list())"
    },
    "r": {
     "delete_cmd_postfix": ") ",
     "delete_cmd_prefix": "rm(",
     "library": "var_list.r",
     "varRefreshCmd": "cat(var_dic_list()) "
    }
   },
   "types_to_exclude": [
    "module",
    "function",
    "builtin_function_or_method",
    "instance",
    "_Feature"
   ],
   "window_display": false
  }
 },
 "nbformat": 4,
 "nbformat_minor": 2
}
