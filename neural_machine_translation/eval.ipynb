{
 "cells": [
  {
   "cell_type": "code",
   "execution_count": 1,
   "metadata": {},
   "outputs": [
    {
     "name": "stdout",
     "output_type": "stream",
     "text": [
      "您的Bleu分值为0.1902\n"
     ]
    }
   ],
   "source": [
    "from nltk.translate.bleu_score import corpus_bleu\n",
    "\n",
    "def rounder(num): #保留两位小数，四舍五入\n",
    "    return round(num, 4)\n",
    "\n",
    "\n",
    "pred=[]\n",
    "ref=[]\n",
    "\n",
    "with open(r\"finalTest\\predN.txt\",\"r\",encoding=\"utf-8\") as a:\n",
    "    for item in a:\n",
    "        pred.append([i for i in item.strip()])\n",
    "        \n",
    "    \n",
    "with open(r\"C:\\Users\\19843\\Desktop\\natural_language_processing\\NMT\\eval\\finalTest\\ref.txt\",\"r\",encoding=\"utf-8\") as b:\n",
    "    for item in b:\n",
    "        ref.append([[i for i in item.strip()]])\n",
    "\n",
    "\n",
    "score = corpus_bleu(ref,pred)\n",
    "print(\"您的Bleu分值为{}\".format(rounder(score)))"
   ]
  },
  {
   "cell_type": "code",
   "execution_count": null,
   "metadata": {},
   "outputs": [],
   "source": []
  }
 ],
 "metadata": {
  "kernelspec": {
   "display_name": "Python 3",
   "language": "python",
   "name": "python3"
  },
  "language_info": {
   "codemirror_mode": {
    "name": "ipython",
    "version": 3
   },
   "file_extension": ".py",
   "mimetype": "text/x-python",
   "name": "python",
   "nbconvert_exporter": "python",
   "pygments_lexer": "ipython3",
   "version": "3.7.3"
  },
  "varInspector": {
   "cols": {
    "lenName": 16,
    "lenType": 16,
    "lenVar": 40
   },
   "kernels_config": {
    "python": {
     "delete_cmd_postfix": "",
     "delete_cmd_prefix": "del ",
     "library": "var_list.py",
     "varRefreshCmd": "print(var_dic_list())"
    },
    "r": {
     "delete_cmd_postfix": ") ",
     "delete_cmd_prefix": "rm(",
     "library": "var_list.r",
     "varRefreshCmd": "cat(var_dic_list()) "
    }
   },
   "position": {
    "height": "106.278px",
    "left": "1047.32px",
    "right": "20px",
    "top": "-43px",
    "width": "613.222px"
   },
   "types_to_exclude": [
    "module",
    "function",
    "builtin_function_or_method",
    "instance",
    "_Feature"
   ],
   "window_display": true
  }
 },
 "nbformat": 4,
 "nbformat_minor": 2
}
