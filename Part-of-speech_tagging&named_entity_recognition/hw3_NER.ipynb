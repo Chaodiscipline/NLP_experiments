{
 "cells": [
  {
   "cell_type": "markdown",
   "metadata": {},
   "source": [
    "# experiment 3  词性标注&命名实体识别"
   ]
  },
  {
   "cell_type": "markdown",
   "metadata": {},
   "source": [
    "## 中文命名实体识别"
   ]
  },
  {
   "cell_type": "markdown",
   "metadata": {},
   "source": [
    "# jieba"
   ]
  },
  {
   "cell_type": "code",
   "execution_count": 16,
   "metadata": {},
   "outputs": [],
   "source": [
    "with open(\"C:\\\\Users\\\\19843\\\\Desktop\\\\natural_language_processing\\\\Experiment3\\\\Chinese.txt\", 'r') as f:\n",
    "    Chinese_text = f.read()"
   ]
  },
  {
   "cell_type": "code",
   "execution_count": 27,
   "metadata": {},
   "outputs": [
    {
     "name": "stdout",
     "output_type": "stream",
     "text": [
      "3 m\n",
      "月 m\n",
      "23 m\n",
      "日 m\n",
      "下午 t\n",
      "， x\n",
      "“ x\n",
      "青年报 n\n",
      "杯赛 n\n",
      "” x\n",
      "U19 eng\n",
      "邀请赛 n\n",
      "在 p\n",
      "越南 ns\n",
      "芽庄 n\n",
      "进行 v\n",
      "， x\n",
      "前 f\n",
      "国脚 n\n",
      "曲波 nr\n",
      "挂帅 n\n",
      "的 uj\n",
      "中国 ns\n",
      "U19B eng\n",
      "队 n\n",
      "迎战 v\n",
      "泰国 ns\n",
      "U19 eng\n",
      "， x\n",
      "上半场 ns\n",
      "国青队 nt\n",
      "的 uj\n",
      "门户 n\n",
      "大 a\n",
      "开 v\n",
      "， x\n",
      "泰国 ns\n",
      "在 p\n",
      "第 m\n",
      "11 m\n",
      "分钟 q\n",
      "和 c\n",
      "第 m\n",
      "17 m\n",
      "分钟 q\n",
      "连进 a\n",
      "2 m\n",
      "球 n\n",
      "， x\n",
      "半场 n\n",
      "国青 nt\n",
      "0 m\n",
      "射门 n\n",
      "0 x\n",
      "角球 n\n",
      "， x\n",
      "几乎 d\n",
      "被 p\n",
      "完全 ad\n",
      "压制 n\n",
      "。 x\n",
      "下半场 n\n",
      "， x\n",
      "国青 nr\n",
      "的 uj\n",
      "进攻 v\n",
      "一度 mq\n",
      "有所 n\n",
      "起色 n\n",
      "， x\n",
      "并 c\n",
      "由 p\n",
      "马辅渔 nr\n",
      "利用 n\n",
      "远射 v\n",
      "扳回 v\n",
      "一 m\n",
      "球 n\n",
      "， x\n",
      "但 c\n",
      "最终 d\n",
      "未能 v\n",
      "扳平 n\n",
      "比分 d\n",
      "。 x\n",
      "全场 n\n",
      "比赛 vn\n",
      "结束 v\n",
      "， x\n",
      "国青 nt\n",
      "1 m\n",
      "- x\n",
      "2 x\n",
      "输球 n\n",
      "， x\n",
      "继 v\n",
      "中国 ns\n",
      "杯国 n\n",
      "足 a\n",
      "0 m\n",
      "- x\n",
      "1 x\n",
      "输给 v\n",
      "泰国 ns\n",
      "之后 f\n",
      "， x\n",
      "3 m\n",
      "天内 s\n",
      "遭遇 n\n",
      "泰国 ns\n",
      "足球 n\n",
      "双 m\n",
      "杀 v\n",
      "。 x\n"
     ]
    }
   ],
   "source": [
    "import jieba.posseg as pseg\n",
    "\n",
    "words = pseg.cut(Chinese_text)\n",
    "for word, flag in words:\n",
    "    print('%s %s' % (word, flag))"
   ]
  },
  {
   "cell_type": "markdown",
   "metadata": {},
   "source": [
    "## StanfordCoreNLP"
   ]
  },
  {
   "cell_type": "code",
   "execution_count": 17,
   "metadata": {},
   "outputs": [
    {
     "name": "stdout",
     "output_type": "stream",
     "text": [
      "[('3月', 'NT'), ('23日', 'NT'), ('下午', 'NT'), ('，', 'PU'), ('“', 'PU'), ('青年报', 'NN'), ('杯赛', 'NN'), ('”', 'PU'), ('U19', 'NN'), ('邀请赛', 'NN'), ('在', 'P'), ('越南', 'NR'), ('芽', 'NN'), ('庄', 'NR'), ('进行', 'VV'), ('，', 'PU'), ('前', 'JJ'), ('国脚', 'NN'), ('曲波', 'NR'), ('挂帅', 'VV'), ('的', 'DEC'), ('中国', 'NR'), ('U19', 'NN'), ('B', 'NN'), ('队', 'NN'), ('迎战', 'VV'), ('泰国', 'NR'), ('U19', 'NN'), ('，', 'PU'), ('上半场', 'NN'), ('国青队', 'NR'), ('的', 'DEG'), ('门户', 'NN'), ('大开', 'VV'), ('，', 'PU'), ('泰国', 'NR'), ('在', 'P'), ('第11', 'OD'), ('分钟', 'M'), ('和', 'CC'), ('第17', 'OD'), ('分钟', 'M'), ('连', 'AD'), ('进', 'VV'), ('2', 'CD'), ('球', 'NN'), ('，', 'PU'), ('半场', 'NN'), ('国青', 'NN'), ('0', 'CD'), ('射门', 'VV'), ('0', 'CD'), ('角球', 'NN'), ('，', 'PU'), ('几乎', 'AD'), ('被', 'LB'), ('完全', 'AD'), ('压制', 'VV'), ('。', 'PU'), ('下半场', 'NN'), ('，', 'PU'), ('国青', 'VA'), ('的', 'DEC'), ('进攻', 'NN'), ('一度', 'AD'), ('有所', 'VV'), ('起色', 'NN'), ('，', 'PU'), ('并', 'AD'), ('由', 'P'), ('马辅渔', 'NR'), ('利用', 'VV'), ('远射', 'NN'), ('扳回', 'VV'), ('一', 'CD'), ('球', 'NN'), ('，', 'PU'), ('但', 'AD'), ('最终', 'AD'), ('未', 'AD'), ('能', 'VV'), ('扳平', 'VV'), ('比分', 'NN'), ('。', 'PU'), ('全', 'DT'), ('场', 'NN'), ('比赛', 'NN'), ('结束', 'VV'), ('，', 'PU'), ('国青', 'NN'), ('1-2', 'CD'), ('输球', 'VV'), ('，', 'PU'), ('继', 'P'), ('中国', 'NR'), ('杯', 'NN'), ('国足', 'NN'), ('0-1', 'NN'), ('输给', 'VV'), ('泰国', 'NR'), ('之后', 'LC'), ('，', 'PU'), ('3', 'CD'), ('天', 'M'), ('内', 'LC'), ('遭遇', 'VV'), ('泰国', 'NR'), ('足球', 'NN'), ('双杀', 'NN'), ('。', 'PU')]\n",
      "[('3月', 'DATE'), ('23日', 'DATE'), ('下午', 'TIME'), ('，', 'O'), ('“', 'O'), ('青年报', 'O'), ('杯赛', 'O'), ('”', 'O'), ('U19', 'O'), ('邀请赛', 'O'), ('在', 'O'), ('越南', 'COUNTRY'), ('芽', 'O'), ('庄', 'O'), ('进行', 'O'), ('，', 'O'), ('前', 'O'), ('国脚', 'O'), ('曲波', 'PERSON'), ('挂帅', 'O'), ('的', 'O'), ('中国', 'COUNTRY'), ('U19', 'O'), ('B', 'O'), ('队', 'O'), ('迎战', 'O'), ('泰国', 'COUNTRY'), ('U19', 'O'), ('，', 'O'), ('上半场', 'ORGANIZATION'), ('国青队', 'ORGANIZATION'), ('的', 'O'), ('门户', 'O'), ('大开', 'O'), ('，', 'O'), ('泰国', 'COUNTRY'), ('在', 'O'), ('第11', 'ORDINAL'), ('分钟', 'MISC'), ('和', 'O'), ('第17', 'ORDINAL'), ('分钟', 'MISC'), ('连', 'O'), ('进', 'O'), ('2', 'NUMBER'), ('球', 'O'), ('，', 'O'), ('半场', 'MISC'), ('国青', 'MISC'), ('0', 'NUMBER'), ('射门', 'O'), ('0', 'NUMBER'), ('角球', 'O'), ('，', 'O'), ('几乎', 'O'), ('被', 'O'), ('完全', 'O'), ('压制', 'O'), ('。', 'O'), ('下半场', 'O'), ('，', 'O'), ('国青', 'O'), ('的', 'O'), ('进攻', 'O'), ('一度', 'O'), ('有所', 'O'), ('起色', 'O'), ('，', 'O'), ('并', 'O'), ('由', 'O'), ('马辅渔', 'PERSON'), ('利用', 'O'), ('远射', 'O'), ('扳回', 'O'), ('一', 'NUMBER'), ('球', 'O'), ('，', 'O'), ('但', 'O'), ('最终', 'O'), ('未', 'O'), ('能', 'O'), ('扳平', 'O'), ('比分', 'O'), ('。', 'O'), ('全', 'O'), ('场', 'O'), ('比赛', 'O'), ('结束', 'O'), ('，', 'O'), ('国青', 'O'), ('1-2', 'NUMBER'), ('输球', 'O'), ('，', 'O'), ('继', 'O'), ('中国', 'COUNTRY'), ('杯', 'O'), ('国足', 'O'), ('0-1', 'MISC'), ('输给', 'MISC'), ('泰国', 'MISC'), ('之后', 'MISC'), ('，', 'O'), ('3', 'NUMBER'), ('天', 'MISC'), ('内', 'MISC'), ('遭遇', 'O'), ('泰国', 'COUNTRY'), ('足球', 'O'), ('双杀', 'O'), ('。', 'O')]\n"
     ]
    }
   ],
   "source": [
    "with StanfordCoreNLP(r'C:\\Users\\19843\\Desktop\\natural_language_processing\\stanford-corenlp-full-2018-10-05', lang='zh') as nlp:\n",
    "    print(nlp.pos_tag(Chinese_text))\n",
    "    print(nlp.ner(Chinese_text))"
   ]
  },
  {
   "cell_type": "markdown",
   "metadata": {},
   "source": [
    "# snownlp"
   ]
  },
  {
   "cell_type": "code",
   "execution_count": 20,
   "metadata": {},
   "outputs": [],
   "source": [
    "from snownlp import SnowNLP\n",
    "\n",
    "with open(\"C:\\\\Users\\\\19843\\\\Desktop\\\\natural_language_processing\\\\Experiment3\\\\Chinese.txt\", 'r') as f:\n",
    "    Chinese_text = f.read()"
   ]
  },
  {
   "cell_type": "code",
   "execution_count": 21,
   "metadata": {},
   "outputs": [
    {
     "name": "stdout",
     "output_type": "stream",
     "text": [
      "<class 'str'>\n",
      "\n",
      " ['3', '月', '23', '日', '下午', '，“', '青年报', '杯赛', '”U19', '邀请赛', '在', '越南', '芽', '庄', '进行', '，', '前', '国', '脚曲', '波', '挂帅', '的', '中国', 'U19B', '队', '迎战', '泰国', 'U19，', '上半场', '国', '青队', '的', '门户', '大', '开', '，', '泰国', '在', '第', '11', '分钟', '和', '第', '17', '分钟', '连', '进', '2', '球', '，', '半场', '国', '青', '0', '射门', '0', '角球', '，', '几乎', '被', '完全', '压制', '。', '下半场', '，', '国', '青', '的', '进攻', '一度', '有所', '起色', '，', '并', '由', '马', '辅', '渔', '利用', '远射', '扳回', '一', '球', '，', '但', '最终', '未', '能', '扳平', '比分', '。', '全场', '比赛', '结束', '，', '国', '青', '1-2', '输', '球', '，', '继', '中国', '杯', '国', '足', '0-1', '输', '给', '泰国', '之后', '，3', '天', '内', '遭遇', '泰国', '足球', '双杀', '。']\n",
      "\n",
      " <zip object at 0x000001D2A9459B88>\n"
     ]
    }
   ],
   "source": [
    "print(type(Chinese_text))\n",
    "    \n",
    "s = SnowNLP(Chinese_text)\n",
    "print(\"\\n\",s.words)\n",
    "print(\"\\n\",s.tags)"
   ]
  },
  {
   "cell_type": "markdown",
   "metadata": {},
   "source": [
    "# thulac"
   ]
  },
  {
   "cell_type": "code",
   "execution_count": 25,
   "metadata": {},
   "outputs": [
    {
     "name": "stdout",
     "output_type": "stream",
     "text": [
      "Model loaded succeed\n",
      "下午_t 青年_n 报杯赛_n 邀请赛_n 越南_ns 芽庄_ns 国脚_n 曲波_np 挂帅_v 中国_ns U19B队_n 迎战_v 泰国_ns 上半场_n 国青队_ni 门户_n 开_v 泰国_ns 进_v 球_n 国青0_n 射门_v 0_v 角球_n 完全_a 压制_v 下半场_n 国青_a 进攻_v 起色_n 马辅渔_np 利用_v 远射_v 扳回_v 球_n 扳平_v 比分_n 全场_n 比赛_v 结束_v 国青_a 输_v 球_n 中国_ns 杯国_ns 输_v 给_v 泰国_ns 遭遇_v 泰国_ns 足球_n 双杀_a\n"
     ]
    }
   ],
   "source": [
    "import thulac\n",
    "\n",
    "thu1 = thulac.thulac(user_dict=None, model_path=None, T2S=False, seg_only=False, filt=True, deli='_')  #默认模式\n",
    "print(thu1.cut(Chinese_text, text=True))"
   ]
  },
  {
   "cell_type": "markdown",
   "metadata": {},
   "source": [
    "# pynlpir"
   ]
  },
  {
   "cell_type": "code",
   "execution_count": 8,
   "metadata": {
    "scrolled": true
   },
   "outputs": [
    {
     "name": "stderr",
     "output_type": "stream",
     "text": [
      "part of speech not recognized: 'gnbj'\n",
      "part of speech not recognized: 'gnbj'\n"
     ]
    },
    {
     "name": "stdout",
     "output_type": "stream",
     "text": [
      "[('央', 'verb'), ('视', 'verb'), ('315', 'numeral'), ('晚会', 'noun'), ('曝光', 'verb'), ('湖北省', 'noun'), ('知名', 'adjective'), ('的', 'particle'), ('神', 'noun'), ('丹', 'distinguishing word'), ('牌', 'noun'), ('、', 'punctuation mark'), ('莲', 'noun'), ('田', 'noun'), ('牌', 'noun'), ('“', 'punctuation mark'), ('土', 'noun'), ('鸡蛋', 'noun'), ('”', 'punctuation mark'), ('实', 'adjective'), ('为', 'verb'), ('普通', 'adjective'), ('鸡蛋', 'noun'), ('冒充', 'verb'), ('，', 'punctuation mark'), ('同时', 'conjunction'), ('在', 'preposition'), ('商标', 'noun'), ('上', 'noun of locality'), ('玩', 'verb'), ('猫腻', 'noun'), ('，', 'punctuation mark'), ('分别', 'adverb'), ('注册', 'verb'), ('“', 'punctuation mark'), ('鲜', 'adjective'), ('土', 'noun'), ('”', 'punctuation mark'), ('、', 'punctuation mark'), ('注册', 'verb'), ('“', 'punctuation mark'), ('好', 'adjective'), ('土', 'noun'), ('”', 'punctuation mark'), ('商标', 'noun'), ('，', 'punctuation mark'), ('让', 'verb'), ('消费者', 'noun'), ('误', 'adverb'), ('以为', 'verb'), ('是', 'verb'), ('“', 'punctuation mark'), ('土', 'noun'), ('鸡蛋', 'noun'), ('”', 'punctuation mark'), ('。', 'punctuation mark'), ('3月', 'time word'), ('15日', 'time word'), ('晚间', 'time word'), ('，', 'punctuation mark'), ('新京报', None), ('记者', 'noun'), ('就', 'adverb'), ('此事', 'pronoun'), ('致电', 'verb'), ('湖北', 'noun'), ('神', 'noun'), ('丹', 'distinguishing word'), ('健康', 'adjective'), ('食品', 'noun'), ('有限公司', 'noun'), ('方面', 'noun'), ('，', 'punctuation mark'), ('其', 'pronoun'), ('工作', 'verb'), ('人员', 'noun'), ('表示', 'verb'), ('不', 'adverb'), ('知', 'verb'), ('情', 'noun'), ('，', 'punctuation mark'), ('需要', 'verb'), ('了解', 'verb'), ('清楚', 'adjective'), ('情况', 'noun'), ('，', 'punctuation mark'), ('截至', 'verb'), ('发稿', 'verb'), ('暂', 'adverb'), ('未', 'adverb'), ('取得', 'verb'), ('最新', 'adjective'), ('回应', 'verb'), ('。', 'punctuation mark'), ('新京报', None), ('记者', 'noun'), ('还', 'adverb'), ('查询', 'verb'), ('发现', 'verb'), ('，', 'punctuation mark'), ('湖北', 'noun'), ('神', 'noun'), ('丹', 'distinguishing word'), ('健康', 'adjective'), ('食品', 'noun'), ('有限公司', 'noun'), ('为', 'preposition'), ('农业', 'noun'), ('产业化', 'verb'), ('国家', 'noun'), ('重点', 'noun'), ('龙头', 'noun'), ('企业', 'noun'), ('、', 'punctuation mark'), ('高新技术', 'noun'), ('企业', 'noun'), ('，', 'punctuation mark'), ('此前', 'time word'), ('曾', 'adverb'), ('因', 'preposition'), ('涉嫌', 'verb'), ('虚假', 'adjective'), ('宣传', 'verb'), ('“', 'punctuation mark'), ('中国', 'noun'), ('最', 'adverb'), ('大', 'adjective'), ('的', 'particle'), ('蛋品', 'noun'), ('企业', 'noun'), ('”', 'punctuation mark'), ('而', 'conjunction'), ('被', 'preposition'), ('罚', 'verb'), ('6万', 'numeral'), ('元', 'classifier'), ('。', 'punctuation mark')]\n"
     ]
    }
   ],
   "source": [
    "import pynlpir\n",
    "\n",
    "pynlpir.open()\n",
    "# s = 'NLPIR分词系统前身为2000年发布的ICTCLAS词法分析系统，从2009年开始，为了和以前工作进行大的区隔，并推广NLPIR自然语言处理与信息检索共享平台，调整命名为NLPIR分词系统。'\n",
    "# pynlpir.segment(s)\n",
    "result = pynlpir.segment(Chinese_text)\n",
    "print(result)"
   ]
  },
  {
   "cell_type": "markdown",
   "metadata": {},
   "source": [
    "# 英文命名实体识别"
   ]
  },
  {
   "cell_type": "code",
   "execution_count": 1,
   "metadata": {},
   "outputs": [],
   "source": [
    "with open(\"C:\\\\Users\\\\19843\\\\Desktop\\\\natural_language_processing\\\\Experiment3\\\\English.txt\", 'r') as f:\n",
    "    English_text = f.read()"
   ]
  },
  {
   "cell_type": "markdown",
   "metadata": {},
   "source": [
    "## NLTK"
   ]
  },
  {
   "cell_type": "code",
   "execution_count": 5,
   "metadata": {},
   "outputs": [
    {
     "name": "stdout",
     "output_type": "stream",
     "text": [
      "\n",
      " tag:\n",
      " [('Xi', 'NN'), ('Jinping', 'NNP'), (',', ','), ('male', 'NN'), (',', ','), ('Han', 'NNP'), ('ethnicity', 'NN'), (',', ','), ('was', 'VBD'), ('born', 'VBN'), ('in', 'IN'), ('June', 'NNP'), ('1953', 'CD'), ('and', 'CC'), ('is', 'VBZ'), ('from', 'IN'), ('Fuping', 'VBG'), (',', ','), ('Shaanxi', 'NNP'), ('Province', 'NNP'), ('.', '.'), ('He', 'PRP'), ('began', 'VBD'), ('his', 'PRP$'), ('first', 'JJ'), ('job', 'NN'), ('in', 'IN'), ('January', 'NNP'), ('1969', 'CD'), ('and', 'CC'), ('joined', 'VBD'), ('the', 'DT'), ('Communist', 'NNP'), ('Party', 'NNP'), ('of', 'IN'), ('China', 'NNP'), ('(', '('), ('CPC', 'NNP'), (')', ')'), ('in', 'IN'), ('January', 'NNP'), ('1974', 'CD'), ('.', '.'), ('Xi', 'VB'), ('graduated', 'VBN'), ('from', 'IN'), ('School', 'NNP'), ('of', 'IN'), ('Humanities', 'NNP'), ('and', 'CC'), ('Social', 'NNP'), ('Sciences', 'NNPS'), (',', ','), ('Tsinghua', 'NNP'), ('University', 'NNP'), ('where', 'WRB'), ('he', 'PRP'), ('completed', 'VBD'), ('an', 'DT'), ('in-service', 'JJ'), ('graduate', 'NN'), ('program', 'NN'), ('in', 'IN'), ('Marxist', 'NNP'), ('theory', 'NN'), ('and', 'CC'), ('ideological', 'JJ'), ('and', 'CC'), ('political', 'JJ'), ('education', 'NN'), ('.', '.'), ('He', 'PRP'), ('holds', 'VBZ'), ('a', 'DT'), ('Doctor', 'NNP'), ('of', 'IN'), ('Law', 'NNP'), ('degree', 'NN'), ('.', '.'), ('Xi', 'NN'), ('is', 'VBZ'), ('currently', 'RB'), ('General', 'NNP'), ('Secretary', 'NNP'), ('of', 'IN'), ('the', 'DT'), ('CPC', 'NNP'), ('Central', 'NNP'), ('Committee', 'NNP'), (',', ','), ('Chairman', 'NNP'), ('of', 'IN'), ('the', 'DT'), ('CPC', 'NNP'), ('Central', 'NNP'), ('Military', 'NNP'), ('Commission', 'NNP'), (',', ','), ('President', 'NNP'), ('of', 'IN'), ('the', 'DT'), ('People', 'NNP'), (\"'s\", 'POS'), ('Republic', 'NNP'), ('of', 'IN'), ('China', 'NNP'), ('(', '('), ('PRC', 'NNP'), (')', ')'), (',', ','), ('and', 'CC'), ('Chairman', 'NNP'), ('of', 'IN'), ('the', 'DT'), ('PRC', 'NNP'), ('Central', 'NNP'), ('Military', 'NNP'), ('Commission', 'NNP'), ('.', '.')]\n",
      "\n",
      " entities:\n",
      " (S\n",
      "  Xi/NN\n",
      "  Jinping/NNP\n",
      "  ,/,\n",
      "  male/NN\n",
      "  ,/,\n",
      "  (PERSON Han/NNP)\n",
      "  ethnicity/NN\n",
      "  ,/,\n",
      "  was/VBD\n",
      "  born/VBN\n",
      "  in/IN\n",
      "  June/NNP\n",
      "  1953/CD\n",
      "  and/CC\n",
      "  is/VBZ\n",
      "  from/IN\n",
      "  Fuping/VBG\n",
      "  ,/,\n",
      "  (PERSON Shaanxi/NNP Province/NNP)\n",
      "  ./.\n",
      "  He/PRP\n",
      "  began/VBD\n",
      "  his/PRP$\n",
      "  first/JJ\n",
      "  job/NN\n",
      "  in/IN\n",
      "  January/NNP\n",
      "  1969/CD\n",
      "  and/CC\n",
      "  joined/VBD\n",
      "  the/DT\n",
      "  (ORGANIZATION Communist/NNP Party/NNP)\n",
      "  of/IN\n",
      "  (GPE China/NNP)\n",
      "  (/(\n",
      "  (ORGANIZATION CPC/NNP)\n",
      "  )/)\n",
      "  in/IN\n",
      "  January/NNP\n",
      "  1974/CD\n",
      "  ./.\n",
      "  Xi/VB\n",
      "  graduated/VBN\n",
      "  from/IN\n",
      "  (ORGANIZATION School/NNP)\n",
      "  of/IN\n",
      "  (ORGANIZATION Humanities/NNP)\n",
      "  and/CC\n",
      "  (ORGANIZATION Social/NNP Sciences/NNPS)\n",
      "  ,/,\n",
      "  (ORGANIZATION Tsinghua/NNP University/NNP)\n",
      "  where/WRB\n",
      "  he/PRP\n",
      "  completed/VBD\n",
      "  an/DT\n",
      "  in-service/JJ\n",
      "  graduate/NN\n",
      "  program/NN\n",
      "  in/IN\n",
      "  (GPE Marxist/NNP)\n",
      "  theory/NN\n",
      "  and/CC\n",
      "  ideological/JJ\n",
      "  and/CC\n",
      "  political/JJ\n",
      "  education/NN\n",
      "  ./.\n",
      "  He/PRP\n",
      "  holds/VBZ\n",
      "  a/DT\n",
      "  Doctor/NNP\n",
      "  of/IN\n",
      "  (GPE Law/NNP)\n",
      "  degree/NN\n",
      "  ./.\n",
      "  Xi/NN\n",
      "  is/VBZ\n",
      "  currently/RB\n",
      "  (ORGANIZATION General/NNP)\n",
      "  Secretary/NNP\n",
      "  of/IN\n",
      "  the/DT\n",
      "  (ORGANIZATION CPC/NNP Central/NNP Committee/NNP)\n",
      "  ,/,\n",
      "  Chairman/NNP\n",
      "  of/IN\n",
      "  the/DT\n",
      "  (ORGANIZATION CPC/NNP Central/NNP)\n",
      "  Military/NNP\n",
      "  Commission/NNP\n",
      "  ,/,\n",
      "  President/NNP\n",
      "  of/IN\n",
      "  the/DT\n",
      "  (ORGANIZATION People/NNP)\n",
      "  's/POS\n",
      "  (ORGANIZATION Republic/NNP)\n",
      "  of/IN\n",
      "  (GPE China/NNP)\n",
      "  (/(\n",
      "  (ORGANIZATION PRC/NNP)\n",
      "  )/)\n",
      "  ,/,\n",
      "  and/CC\n",
      "  Chairman/NNP\n",
      "  of/IN\n",
      "  the/DT\n",
      "  (ORGANIZATION PRC/NNP Central/NNP)\n",
      "  Military/NNP\n",
      "  Commission/NNP\n",
      "  ./.)\n"
     ]
    }
   ],
   "source": [
    "import nltk\n",
    "# nltk.download('maxent_ne_chunker')\n",
    "# nltk.download('words')\n",
    "\n",
    "#先分句再分词\n",
    "sents = nltk.sent_tokenize(English_text)\n",
    "word = []\n",
    "for sent in sents:\n",
    "    word.append(nltk.word_tokenize(sent))\n",
    "# print(word)\n",
    "\n",
    "#分词\n",
    "text = nltk.word_tokenize(English_text)\n",
    "# print(text)\n",
    "#词性标注\n",
    "tagged = nltk.pos_tag(text)\n",
    "print (\"\\n tag:\\n\", tagged)\n",
    "#命名实体识别\n",
    "entities = nltk.chunk.ne_chunk(tagged)\n",
    "print (\"\\n entities:\\n\", entities)"
   ]
  },
  {
   "cell_type": "markdown",
   "metadata": {},
   "source": [
    "## Spacy"
   ]
  },
  {
   "cell_type": "code",
   "execution_count": 12,
   "metadata": {},
   "outputs": [
    {
     "name": "stdout",
     "output_type": "stream",
     "text": [
      "Xi NNP\n",
      "Jinping NNP\n",
      ", ,\n",
      "male NN\n",
      ", ,\n",
      "Han NNP\n",
      "ethnicity NN\n",
      ", ,\n",
      "was VBD\n",
      "born VBN\n",
      "in IN\n",
      "June NNP\n",
      "1953 CD\n",
      "and CC\n",
      "is VBZ\n",
      "from IN\n",
      "Fuping NNP\n",
      ", ,\n",
      "Shaanxi NNP\n",
      "Province NNP\n",
      ". .\n",
      "NORP ['Marxist', 'Han']\n",
      "DATE ['January 1969', 'June 1953', 'January 1974']\n",
      "ORDINAL ['first']\n",
      "GPE [\"the People's Republic of China\", 'PRC', 'Fuping', 'Shaanxi Province']\n",
      "ORG ['School of Humanities and Social Sciences', 'the PRC Central Military Commission', 'the CPC Central Military Commission', 'the Communist Party of China', 'the CPC Central Committee', 'CPC', 'Tsinghua University']\n",
      "PERSON ['Xi Jinping', 'Xi']\n"
     ]
    }
   ],
   "source": [
    "import spacy \n",
    "\n",
    "nlp = spacy.load('en')\n",
    "doc = nlp(English_text)\n",
    "\n",
    "# for token in doc:\n",
    "#     print(token.text)\n",
    "    \n",
    "    \n",
    "# get all tags\n",
    "all_tags = {w.pos: w.pos_ for w in doc}\n",
    "\n",
    "# all tags of first sentence of our document \n",
    "for word in list(doc.sents)[0]:  \n",
    "    print(word, word.tag_)\n",
    "\n",
    "# entity detection\n",
    "labels = set([w.label_ for w in doc.ents]) \n",
    "for label in labels: \n",
    "    entities = [cleanup(e.string, lower=False) for e in doc.ents if label==e.label_] \n",
    "    entities = list(set(entities)) \n",
    "    print(label,entities)"
   ]
  },
  {
   "cell_type": "markdown",
   "metadata": {},
   "source": [
    "## StanfordCoreNLP"
   ]
  },
  {
   "cell_type": "code",
   "execution_count": 9,
   "metadata": {
    "scrolled": false
   },
   "outputs": [
    {
     "name": "stdout",
     "output_type": "stream",
     "text": [
      "Tokenize: ['Xi', 'Jinping', ',', 'male', ',', 'Han', 'ethnicity', ',', 'was', 'born', 'in', 'June', '1953', 'and', 'is', 'from', 'Fuping', ',', 'Shaanxi', 'Province', '.', 'He', 'began', 'his', 'first', 'job', 'in', 'January', '1969', 'and', 'joined', 'the', 'Communist', 'Party', 'of', 'China', '(', 'CPC', ')', 'in', 'January', '1974', '.', 'Xi', 'graduated', 'from', 'School', 'of', 'Humanities', 'and', 'Social', 'Sciences', ',', 'Tsinghua', 'University', 'where', 'he', 'completed', 'an', 'in-service', 'graduate', 'program', 'in', 'Marxist', 'theory', 'and', 'ideological', 'and', 'political', 'education', '.', 'He', 'holds', 'a', 'Doctor', 'of', 'Law', 'degree', '.', 'Xi', 'is', 'currently', 'General', 'Secretary', 'of', 'the', 'CPC', 'Central', 'Committee', ',', 'Chairman', 'of', 'the', 'CPC', 'Central', 'Military', 'Commission', ',', 'President', 'of', 'the', 'People', \"'s\", 'Republic', 'of', 'China', '(', 'PRC', ')', ',', 'and', 'Chairman', 'of', 'the', 'PRC', 'Central', 'Military', 'Commission', '.']\n",
      "Part of Speech: [('Xi', 'NN'), ('Jinping', 'NN'), (',', ','), ('male', 'NN'), (',', ','), ('Han', 'NNP'), ('ethnicity', 'NN'), (',', ','), ('was', 'VBD'), ('born', 'VBN'), ('in', 'IN'), ('June', 'NNP'), ('1953', 'CD'), ('and', 'CC'), ('is', 'VBZ'), ('from', 'IN'), ('Fuping', 'NNP'), (',', ','), ('Shaanxi', 'NNP'), ('Province', 'NNP'), ('.', '.'), ('He', 'PRP'), ('began', 'VBD'), ('his', 'PRP$'), ('first', 'JJ'), ('job', 'NN'), ('in', 'IN'), ('January', 'NNP'), ('1969', 'CD'), ('and', 'CC'), ('joined', 'VBD'), ('the', 'DT'), ('Communist', 'NNP'), ('Party', 'NNP'), ('of', 'IN'), ('China', 'NNP'), ('(', '-LRB-'), ('CPC', 'NNP'), (')', '-RRB-'), ('in', 'IN'), ('January', 'NNP'), ('1974', 'CD'), ('.', '.'), ('Xi', 'NN'), ('graduated', 'VBD'), ('from', 'IN'), ('School', 'NNP'), ('of', 'IN'), ('Humanities', 'NNPS'), ('and', 'CC'), ('Social', 'NNP'), ('Sciences', 'NNPS'), (',', ','), ('Tsinghua', 'NNP'), ('University', 'NNP'), ('where', 'WRB'), ('he', 'PRP'), ('completed', 'VBD'), ('an', 'DT'), ('in-service', 'JJ'), ('graduate', 'NN'), ('program', 'NN'), ('in', 'IN'), ('Marxist', 'JJ'), ('theory', 'NN'), ('and', 'CC'), ('ideological', 'JJ'), ('and', 'CC'), ('political', 'JJ'), ('education', 'NN'), ('.', '.'), ('He', 'PRP'), ('holds', 'VBZ'), ('a', 'DT'), ('Doctor', 'NN'), ('of', 'IN'), ('Law', 'NN'), ('degree', 'NN'), ('.', '.'), ('Xi', 'NN'), ('is', 'VBZ'), ('currently', 'RB'), ('General', 'NNP'), ('Secretary', 'NNP'), ('of', 'IN'), ('the', 'DT'), ('CPC', 'NNP'), ('Central', 'NNP'), ('Committee', 'NNP'), (',', ','), ('Chairman', 'NNP'), ('of', 'IN'), ('the', 'DT'), ('CPC', 'NNP'), ('Central', 'NNP'), ('Military', 'NNP'), ('Commission', 'NNP'), (',', ','), ('President', 'NNP'), ('of', 'IN'), ('the', 'DT'), ('People', 'NNS'), (\"'s\", 'POS'), ('Republic', 'NN'), ('of', 'IN'), ('China', 'NNP'), ('(', '-LRB-'), ('PRC', 'NNP'), (')', '-RRB-'), (',', ','), ('and', 'CC'), ('Chairman', 'NNP'), ('of', 'IN'), ('the', 'DT'), ('PRC', 'NNP'), ('Central', 'NNP'), ('Military', 'NNP'), ('Commission', 'NNP'), ('.', '.')]\n",
      "Named Entities: [('Xi', 'PERSON'), ('Jinping', 'PERSON'), (',', 'O'), ('male', 'O'), (',', 'O'), ('Han', 'O'), ('ethnicity', 'O'), (',', 'O'), ('was', 'O'), ('born', 'O'), ('in', 'O'), ('June', 'DATE'), ('1953', 'DATE'), ('and', 'O'), ('is', 'O'), ('from', 'O'), ('Fuping', 'O'), (',', 'O'), ('Shaanxi', 'STATE_OR_PROVINCE'), ('Province', 'LOCATION'), ('.', 'O'), ('He', 'O'), ('began', 'O'), ('his', 'O'), ('first', 'ORDINAL'), ('job', 'O'), ('in', 'O'), ('January', 'DATE'), ('1969', 'DATE'), ('and', 'O'), ('joined', 'O'), ('the', 'O'), ('Communist', 'ORGANIZATION'), ('Party', 'ORGANIZATION'), ('of', 'ORGANIZATION'), ('China', 'ORGANIZATION'), ('(', 'O'), ('CPC', 'ORGANIZATION'), (')', 'O'), ('in', 'O'), ('January', 'DATE'), ('1974', 'DATE'), ('.', 'O'), ('Xi', 'O'), ('graduated', 'O'), ('from', 'O'), ('School', 'ORGANIZATION'), ('of', 'ORGANIZATION'), ('Humanities', 'ORGANIZATION'), ('and', 'ORGANIZATION'), ('Social', 'ORGANIZATION'), ('Sciences', 'ORGANIZATION'), (',', 'O'), ('Tsinghua', 'ORGANIZATION'), ('University', 'ORGANIZATION'), ('where', 'O'), ('he', 'O'), ('completed', 'O'), ('an', 'O'), ('in-service', 'O'), ('graduate', 'O'), ('program', 'O'), ('in', 'O'), ('Marxist', 'IDEOLOGY'), ('theory', 'O'), ('and', 'O'), ('ideological', 'O'), ('and', 'O'), ('political', 'O'), ('education', 'O'), ('.', 'O'), ('He', 'O'), ('holds', 'O'), ('a', 'O'), ('Doctor', 'TITLE'), ('of', 'MISC'), ('Law', 'MISC'), ('degree', 'O'), ('.', 'O'), ('Xi', 'O'), ('is', 'O'), ('currently', 'DATE'), ('General', 'TITLE'), ('Secretary', 'O'), ('of', 'O'), ('the', 'O'), ('CPC', 'ORGANIZATION'), ('Central', 'ORGANIZATION'), ('Committee', 'ORGANIZATION'), (',', 'O'), ('Chairman', 'TITLE'), ('of', 'O'), ('the', 'O'), ('CPC', 'ORGANIZATION'), ('Central', 'ORGANIZATION'), ('Military', 'ORGANIZATION'), ('Commission', 'ORGANIZATION'), (',', 'O'), ('President', 'TITLE'), ('of', 'O'), ('the', 'O'), ('People', 'LOCATION'), (\"'s\", 'LOCATION'), ('Republic', 'COUNTRY'), ('of', 'COUNTRY'), ('China', 'COUNTRY'), ('(', 'O'), ('PRC', 'COUNTRY'), (')', 'O'), (',', 'O'), ('and', 'O'), ('Chairman', 'TITLE'), ('of', 'O'), ('the', 'O'), ('PRC', 'ORGANIZATION'), ('Central', 'ORGANIZATION'), ('Military', 'ORGANIZATION'), ('Commission', 'ORGANIZATION'), ('.', 'O')]\n"
     ]
    }
   ],
   "source": [
    "# Simple usage\n",
    "from stanfordcorenlp import StanfordCoreNLP\n",
    "\n",
    "nlp = StanfordCoreNLP(r'C:\\Users\\19843\\Desktop\\natural_language_processing\\stanford-corenlp-full-2018-10-05')\n",
    "\n",
    "print('Tokenize:', nlp.word_tokenize(English_text))\n",
    "print('Part of Speech:', nlp.pos_tag(English_text))\n",
    "print('Named Entities:', nlp.ner(English_text))\n",
    "\n",
    "\n",
    "nlp.close() # Do not forget to close! The backend server will consume a lot memery."
   ]
  },
  {
   "cell_type": "code",
   "execution_count": null,
   "metadata": {},
   "outputs": [],
   "source": []
  }
 ],
 "metadata": {
  "kernelspec": {
   "display_name": "Python 3",
   "language": "python",
   "name": "python3"
  },
  "language_info": {
   "codemirror_mode": {
    "name": "ipython",
    "version": 3
   },
   "file_extension": ".py",
   "mimetype": "text/x-python",
   "name": "python",
   "nbconvert_exporter": "python",
   "pygments_lexer": "ipython3",
   "version": "3.6.5"
  }
 },
 "nbformat": 4,
 "nbformat_minor": 2
}
